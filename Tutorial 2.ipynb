{
 "cells": [
  {
   "cell_type": "code",
   "execution_count": 1,
   "id": "05f86fb3",
   "metadata": {},
   "outputs": [],
   "source": [
    "import cv2\n",
    "import random"
   ]
  },
  {
   "cell_type": "code",
   "execution_count": 2,
   "id": "528fb0df",
   "metadata": {},
   "outputs": [],
   "source": [
    "img = cv2.imread('Assets/dog_image.jpg', -1)"
   ]
  },
  {
   "cell_type": "code",
   "execution_count": 3,
   "id": "0ecb2755",
   "metadata": {},
   "outputs": [
    {
     "name": "stdout",
     "output_type": "stream",
     "text": [
      "[[[  5 116  96]\n",
      "  [  5 116  96]\n",
      "  [  6 114  95]\n",
      "  ...\n",
      "  [ 23  79  96]\n",
      "  [ 23  79  96]\n",
      "  [ 23  79  96]]\n",
      "\n",
      " [[  5 116  94]\n",
      "  [  5 116  94]\n",
      "  [  7 116  94]\n",
      "  ...\n",
      "  [ 24  80  97]\n",
      "  [ 24  80  97]\n",
      "  [ 24  80  97]]\n",
      "\n",
      " [[  5 117  93]\n",
      "  [  5 117  93]\n",
      "  [  7 117  93]\n",
      "  ...\n",
      "  [ 26  82 101]\n",
      "  [ 26  82 101]\n",
      "  [ 26  82 101]]\n",
      "\n",
      " ...\n",
      "\n",
      " [[  0  88  60]\n",
      "  [  0  80  66]\n",
      "  [ 44 130 130]\n",
      "  ...\n",
      "  [ 33 132 114]\n",
      "  [  4  94  75]\n",
      "  [  0  68  50]]\n",
      "\n",
      " [[  0  82  57]\n",
      "  [  1  84  75]\n",
      "  [ 44 116 123]\n",
      "  ...\n",
      "  [ 40 144 127]\n",
      "  [  1  84  69]\n",
      "  [ 17  79  65]]\n",
      "\n",
      " [[  9  95  71]\n",
      "  [ 41 113 107]\n",
      "  [ 76 132 143]\n",
      "  ...\n",
      "  [  6 108  96]\n",
      "  [  0  46  34]\n",
      "  [ 27  71  58]]]\n"
     ]
    }
   ],
   "source": [
    "# image is represented in form of matrix\n",
    "print(img)"
   ]
  },
  {
   "cell_type": "code",
   "execution_count": 4,
   "id": "10d1a31a",
   "metadata": {},
   "outputs": [
    {
     "name": "stdout",
     "output_type": "stream",
     "text": [
      "<class 'numpy.ndarray'>\n"
     ]
    }
   ],
   "source": [
    "print(type(img))"
   ]
  },
  {
   "cell_type": "code",
   "execution_count": 5,
   "id": "cfbcc2a3",
   "metadata": {},
   "outputs": [
    {
     "name": "stdout",
     "output_type": "stream",
     "text": [
      "(408, 612, 3)\n"
     ]
    }
   ],
   "source": [
    "print(img.shape)"
   ]
  },
  {
   "cell_type": "markdown",
   "id": "eb335bf7",
   "metadata": {},
   "source": [
    "Accessing Pixel Values"
   ]
  },
  {
   "cell_type": "code",
   "execution_count": 6,
   "id": "dbfc4e84",
   "metadata": {},
   "outputs": [
    {
     "name": "stdout",
     "output_type": "stream",
     "text": [
      "[[  5 116  96]\n",
      " [  5 116  96]\n",
      " [  6 114  95]\n",
      " ...\n",
      " [ 23  79  96]\n",
      " [ 23  79  96]\n",
      " [ 23  79  96]]\n"
     ]
    }
   ],
   "source": [
    "# first row of our image(Height)\n",
    "print(img[0])"
   ]
  },
  {
   "cell_type": "code",
   "execution_count": 7,
   "id": "3c39f0c9",
   "metadata": {},
   "outputs": [
    {
     "name": "stdout",
     "output_type": "stream",
     "text": [
      "[ 41 165 153]\n"
     ]
    }
   ],
   "source": [
    "# both rows and columns(Height & width)\n",
    "print(img[30][79])"
   ]
  },
  {
   "cell_type": "code",
   "execution_count": 8,
   "id": "880e7a82",
   "metadata": {},
   "outputs": [
    {
     "name": "stdout",
     "output_type": "stream",
     "text": [
      "[[ 41 165 153]\n",
      " [ 39 167 155]\n",
      " [ 39 167 155]\n",
      " [ 39 168 153]\n",
      " [ 40 169 154]\n",
      " [ 39 169 152]\n",
      " [ 38 169 149]\n",
      " [ 37 168 148]\n",
      " [ 36 167 146]\n",
      " [ 34 167 147]\n",
      " [ 34 167 147]]\n"
     ]
    }
   ],
   "source": [
    "# a single pixel\n",
    "print(img[30][79:90])"
   ]
  },
  {
   "cell_type": "markdown",
   "id": "ebb4c8a7",
   "metadata": {},
   "source": [
    "Changing Pixel Colors"
   ]
  },
  {
   "cell_type": "code",
   "execution_count": 10,
   "id": "c7e501f2",
   "metadata": {},
   "outputs": [],
   "source": [
    "# changing the pixel color\n",
    "for i in range(400):\n",
    "    for j in range(img.shape[1]):\n",
    "        img[i][j] = [random.randint(0,255), random.randint(0,255), random.randint(0,255)]"
   ]
  },
  {
   "cell_type": "code",
   "execution_count": null,
   "id": "bc5ebac4",
   "metadata": {},
   "outputs": [],
   "source": [
    "# displaying the image\n",
    "cv2.imshow('Image',img)\n",
    "cv2.waitKey(0)\n",
    "cv2.destroyAllWindows()"
   ]
  },
  {
   "cell_type": "markdown",
   "id": "4bb0b1d6",
   "metadata": {},
   "source": [
    "Copy and Pasting parts of the Image"
   ]
  },
  {
   "cell_type": "code",
   "execution_count": 42,
   "id": "91137278",
   "metadata": {},
   "outputs": [],
   "source": [
    "# dimension of both the slice should be same\n",
    "tag = img[400:700, 600:900]       # slice copied\n",
    "img[100:400, 200:500] = tag       # slice pasted"
   ]
  },
  {
   "cell_type": "code",
   "execution_count": 43,
   "id": "6c1778e3",
   "metadata": {},
   "outputs": [],
   "source": [
    "cv2.imshow('Image',img)\n",
    "cv2.waitKey(0)\n",
    "cv2.destroyAllWindows()"
   ]
  }
 ],
 "metadata": {
  "kernelspec": {
   "display_name": "Python 3 (ipykernel)",
   "language": "python",
   "name": "python3"
  },
  "language_info": {
   "codemirror_mode": {
    "name": "ipython",
    "version": 3
   },
   "file_extension": ".py",
   "mimetype": "text/x-python",
   "name": "python",
   "nbconvert_exporter": "python",
   "pygments_lexer": "ipython3",
   "version": "3.9.13"
  }
 },
 "nbformat": 4,
 "nbformat_minor": 5
}
