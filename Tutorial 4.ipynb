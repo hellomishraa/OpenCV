{
 "cells": [
  {
   "cell_type": "code",
   "execution_count": 1,
   "id": "9e027ce2",
   "metadata": {},
   "outputs": [],
   "source": [
    "import numpy as np\n",
    "import cv2"
   ]
  },
  {
   "cell_type": "code",
   "execution_count": 3,
   "id": "4a93f7b1",
   "metadata": {},
   "outputs": [],
   "source": [
    "# Drawing a line\n",
    "# copying code from previous tutorial\n",
    "cap = cv2.VideoCapture(0)\n",
    "\n",
    "while True:\n",
    "    ret, frame = cap.read()\n",
    "    width = int(cap.get(3))\n",
    "    height = int(cap.get(4))\n",
    "    \n",
    "    img = cv2.line(frame, (0,0), (width,height), (255,0,0), 10)\n",
    "    \n",
    "    cv2.imshow('frame', img)\n",
    "    \n",
    "    if cv2.waitKey(1) == ord('q'):   \n",
    "        break\n",
    "\n",
    "cap.release()\n",
    "cv2.destroyAllWindows()"
   ]
  },
  {
   "cell_type": "markdown",
   "id": "94cfcc90",
   "metadata": {},
   "source": [
    "*Properties* :\n",
    "\n",
    "cv2.line(\n",
    "1. frame : Source image\n",
    "2. (0,0) : Start position\n",
    "3. (width, height) : End Position\n",
    "4. (255,0,0) : Color(Blue)\n",
    "5. 10 : Thickness\n",
    "\n",
    ")"
   ]
  },
  {
   "cell_type": "code",
   "execution_count": 6,
   "id": "b682144a",
   "metadata": {},
   "outputs": [],
   "source": [
    "# Drawing diagonal lines\n",
    "cap = cv2.VideoCapture(0)\n",
    "\n",
    "while True:\n",
    "    ret, frame = cap.read()\n",
    "    width = int(cap.get(3))\n",
    "    height = int(cap.get(4))\n",
    "    \n",
    "    img = cv2.line(frame, (0,0), (width,height), (255,0,0), 10)\n",
    "    img = cv2.line(img, (0,height), (width,0), (0,255,0), 5)\n",
    "    \n",
    "    cv2.imshow('frame', img)\n",
    "    \n",
    "    if cv2.waitKey(1) == ord('q'):   \n",
    "        break\n",
    "\n",
    "cap.release()\n",
    "cv2.destroyAllWindows()"
   ]
  },
  {
   "cell_type": "code",
   "execution_count": 7,
   "id": "c7cafed2",
   "metadata": {},
   "outputs": [],
   "source": [
    "# Drawing rectangle\n",
    "cap = cv2.VideoCapture(0)\n",
    "\n",
    "while True:\n",
    "    ret, frame = cap.read()\n",
    "    width = int(cap.get(3))\n",
    "    height = int(cap.get(4))\n",
    "    \n",
    "    img = cv2.rectangle(frame, (100,100), (200,200), (128,128,128), 6)\n",
    "    \n",
    "    cv2.imshow('frame', img)\n",
    "    \n",
    "    if cv2.waitKey(1) == ord('q'):   \n",
    "        break\n",
    "\n",
    "cap.release()\n",
    "cv2.destroyAllWindows()"
   ]
  },
  {
   "cell_type": "code",
   "execution_count": 8,
   "id": "595af8c9",
   "metadata": {},
   "outputs": [],
   "source": [
    "# Drawing circle\n",
    "cap = cv2.VideoCapture(0)\n",
    "\n",
    "while True:\n",
    "    ret, frame = cap.read()\n",
    "    width = int(cap.get(3))\n",
    "    height = int(cap.get(4))\n",
    "    \n",
    "    img = cv2.circle(frame, (300,300), 60, (0,0,255), -1)     # -1 to entirely fill the circle\n",
    "    \n",
    "    cv2.imshow('frame', img)\n",
    "    \n",
    "    if cv2.waitKey(1) == ord('q'):   \n",
    "        break\n",
    "\n",
    "cap.release()\n",
    "cv2.destroyAllWindows()"
   ]
  },
  {
   "cell_type": "code",
   "execution_count": 12,
   "id": "f6693114",
   "metadata": {},
   "outputs": [],
   "source": [
    "# Drawing Text\n",
    "cap = cv2.VideoCapture(0)\n",
    "\n",
    "while True:\n",
    "    ret, frame = cap.read()\n",
    "    width = int(cap.get(3))\n",
    "    height = int(cap.get(4))\n",
    "    \n",
    "    img = cv2.circle(frame, (300,300), 60, (0,0,255), -1)     # -1 to entirely fill the circle\n",
    "    font = cv2.FONT_HERSHEY_SIMPLEX\n",
    "    img = cv2.putText(img, 'This is Shantanu!', (10, height-10), font, 2, (0,0,0), 4, cv2.LINE_AA)\n",
    "    \n",
    "    cv2.imshow('frame', img)\n",
    "    \n",
    "    if cv2.waitKey(1) == ord('q'):   \n",
    "        break\n",
    "\n",
    "cap.release()\n",
    "cv2.destroyAllWindows()"
   ]
  },
  {
   "cell_type": "markdown",
   "id": "146519f3",
   "metadata": {},
   "source": [
    "*Properties* :\n",
    "\n",
    "cv2.putText(\n",
    "\n",
    "1. img = Base image\n",
    "2. This is shantanu! = Text\n",
    "3. (10,height-10) = Centre Position\n",
    "4. font = Font\n",
    "5. 2 = Font Scale\n",
    "6. (0,0,0) = Color\n",
    "7. 4 = Thickness\n",
    "8. cv2.LINE_AA = Line type\n",
    "\n",
    ")"
   ]
  }
 ],
 "metadata": {
  "kernelspec": {
   "display_name": "Python 3 (ipykernel)",
   "language": "python",
   "name": "python3"
  },
  "language_info": {
   "codemirror_mode": {
    "name": "ipython",
    "version": 3
   },
   "file_extension": ".py",
   "mimetype": "text/x-python",
   "name": "python",
   "nbconvert_exporter": "python",
   "pygments_lexer": "ipython3",
   "version": "3.9.13"
  }
 },
 "nbformat": 4,
 "nbformat_minor": 5
}
