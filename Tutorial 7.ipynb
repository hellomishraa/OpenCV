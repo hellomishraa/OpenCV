{
 "cells": [
  {
   "cell_type": "markdown",
   "id": "3105768c",
   "metadata": {},
   "source": [
    "## Object Detection(Template Matching):"
   ]
  },
  {
   "cell_type": "code",
   "execution_count": 1,
   "id": "91240539",
   "metadata": {},
   "outputs": [],
   "source": [
    "import numpy as np\n",
    "import cv2"
   ]
  },
  {
   "cell_type": "markdown",
   "id": "93e6d590",
   "metadata": {},
   "source": [
    "### Detecting the football"
   ]
  },
  {
   "cell_type": "code",
   "execution_count": 4,
   "id": "3f2e10bc",
   "metadata": {},
   "outputs": [],
   "source": [
    "# loading template and base images\n",
    "img = cv2.imread('Assets/soccer_practice.jpg', 0)\n",
    "template = cv2.imread('Assets/ball.PNG', 0)\n",
    "h,w = template.shape"
   ]
  },
  {
   "cell_type": "code",
   "execution_count": 5,
   "id": "0f94dce7",
   "metadata": {},
   "outputs": [
    {
     "name": "stdout",
     "output_type": "stream",
     "text": [
      "(111, 228) (672, 83)\n",
      "(544, 817) (672, 83)\n",
      "(1055, 76) (206, 164)\n",
      "(85, 243) (672, 83)\n",
      "(672, 83) (114, 232)\n",
      "(672, 83) (0, 0)\n"
     ]
    }
   ],
   "source": [
    "# template matching\n",
    "methods = [cv2.TM_CCOEFF, cv2.TM_CCOEFF_NORMED, cv2.TM_CCORR, cv2.TM_CCORR_NORMED, cv2.TM_SQDIFF, cv2.TM_SQDIFF_NORMED]\n",
    "\n",
    "# displaying matches\n",
    "for method in methods:\n",
    "    img2 = img.copy()\n",
    "    \n",
    "    result  = cv2.matchTemplate(img2, template, method)\n",
    "    min_val, max_val, min_loc, max_loc = cv2.minMaxLoc(result)\n",
    "    print(min_loc, max_loc)\n",
    "    \n",
    "    if method in [cv2.TM_SQDIFF, cv2.TM_SQDIFF_NORMED]:\n",
    "        location = min_loc\n",
    "    else:\n",
    "        location = max_loc\n",
    "    \n",
    "    bottom_right = (location[0] + w, location[1] + h)\n",
    "    cv2.rectangle(img2, location, bottom_right, 255, 5)\n",
    "    \n",
    "    \n",
    "    \n",
    "    cv2.imshow('Match', img2)\n",
    "    cv2.waitKey(0)\n",
    "    cv2.destroyAllWindows()"
   ]
  },
  {
   "cell_type": "markdown",
   "id": "53df82eb",
   "metadata": {},
   "source": [
    "### Detecting the Shoe"
   ]
  },
  {
   "cell_type": "code",
   "execution_count": 8,
   "id": "dc18f9fb",
   "metadata": {},
   "outputs": [],
   "source": [
    "# loading template and base images\n",
    "img = cv2.resize(cv2.imread('Assets/soccer_practice.jpg', 0), (0,0), fx = 0.8, fy = 0.8, )\n",
    "template = cv2.resize(cv2.imread('Assets/shoe.PNG', 0), (0,0), fx = 0.8, fy = 0.8)\n",
    "h,w = template.shape"
   ]
  },
  {
   "cell_type": "code",
   "execution_count": 10,
   "id": "dd7bc8dc",
   "metadata": {},
   "outputs": [
    {
     "name": "stdout",
     "output_type": "stream",
     "text": [
      "(88, 244) (230, 146)\n",
      "(590, 638) (430, 754)\n",
      "(847, 53) (163, 136)\n",
      "(68, 187) (430, 754)\n",
      "(430, 754) (846, 59)\n",
      "(431, 754) (0, 0)\n"
     ]
    }
   ],
   "source": [
    "# template matching\n",
    "methods = [cv2.TM_CCOEFF, cv2.TM_CCOEFF_NORMED, cv2.TM_CCORR, cv2.TM_CCORR_NORMED, cv2.TM_SQDIFF, cv2.TM_SQDIFF_NORMED]\n",
    "\n",
    "# displaying matches\n",
    "for method in methods:\n",
    "    img2 = img.copy()\n",
    "    \n",
    "    result  = cv2.matchTemplate(img2, template, method)\n",
    "    min_val, max_val, min_loc, max_loc = cv2.minMaxLoc(result)\n",
    "    print(min_loc, max_loc)\n",
    "    \n",
    "    if method in [cv2.TM_SQDIFF, cv2.TM_SQDIFF_NORMED]:\n",
    "        location = min_loc\n",
    "    else:\n",
    "        location = max_loc\n",
    "    \n",
    "    bottom_right = (location[0] + w, location[1] + h)\n",
    "    cv2.rectangle(img2, location, bottom_right, 255, 5)\n",
    "    \n",
    "    \n",
    "    \n",
    "    cv2.imshow('Match', img2)\n",
    "    cv2.waitKey(0)\n",
    "    cv2.destroyAllWindows()"
   ]
  }
 ],
 "metadata": {
  "kernelspec": {
   "display_name": "Python 3 (ipykernel)",
   "language": "python",
   "name": "python3"
  },
  "language_info": {
   "codemirror_mode": {
    "name": "ipython",
    "version": 3
   },
   "file_extension": ".py",
   "mimetype": "text/x-python",
   "name": "python",
   "nbconvert_exporter": "python",
   "pygments_lexer": "ipython3",
   "version": "3.9.13"
  }
 },
 "nbformat": 4,
 "nbformat_minor": 5
}
