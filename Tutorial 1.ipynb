{
 "cells": [
  {
   "cell_type": "code",
   "execution_count": 6,
   "id": "f984783b",
   "metadata": {},
   "outputs": [],
   "source": [
    "# importing open cv library\n",
    "import cv2"
   ]
  },
  {
   "cell_type": "code",
   "execution_count": 7,
   "id": "991f6c16",
   "metadata": {},
   "outputs": [],
   "source": [
    "#loading an image\n",
    "img = cv2.imread(\"Assets/dog_image.jpg\", -1)   # -1:original image 0:b/w 1:Rgb"
   ]
  },
  {
   "cell_type": "code",
   "execution_count": 8,
   "id": "4c0de6b1",
   "metadata": {},
   "outputs": [],
   "source": [
    "# Resizing an image to given pixel\n",
    "img = cv2.resize(img, (500,500))"
   ]
  },
  {
   "cell_type": "code",
   "execution_count": 9,
   "id": "bf426109",
   "metadata": {},
   "outputs": [],
   "source": [
    "# Rotating an image\n",
    "img = cv2.rotate(img, cv2.ROTATE_90_COUNTERCLOCKWISE)   # clkwise, cntrclkwise"
   ]
  },
  {
   "cell_type": "code",
   "execution_count": 10,
   "id": "02a02885",
   "metadata": {},
   "outputs": [],
   "source": [
    "cv2.imshow('Image', img)\n",
    "cv2.waitKey(0)          # when we pass it will wait for infinite time , eg. if we press 10 , it will wait for 10 sec\n",
    "cv2.destroyAllWindows()"
   ]
  },
  {
   "cell_type": "code",
   "execution_count": 12,
   "id": "27f13ba3",
   "metadata": {},
   "outputs": [
    {
     "data": {
      "text/plain": [
       "True"
      ]
     },
     "execution_count": 12,
     "metadata": {},
     "output_type": "execute_result"
    }
   ],
   "source": [
    "# saving a file\n",
    "cv2.imwrite('rotated_dog_image.jpg', img)"
   ]
  }
 ],
 "metadata": {
  "kernelspec": {
   "display_name": "Python 3 (ipykernel)",
   "language": "python",
   "name": "python3"
  },
  "language_info": {
   "codemirror_mode": {
    "name": "ipython",
    "version": 3
   },
   "file_extension": ".py",
   "mimetype": "text/x-python",
   "name": "python",
   "nbconvert_exporter": "python",
   "pygments_lexer": "ipython3",
   "version": "3.9.13"
  }
 },
 "nbformat": 4,
 "nbformat_minor": 5
}
