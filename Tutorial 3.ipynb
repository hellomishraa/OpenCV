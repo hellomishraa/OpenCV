{
 "cells": [
  {
   "cell_type": "markdown",
   "id": "ba26b3bc",
   "metadata": {},
   "source": [
    "### Objective:\n",
    "How to load WebCam, how to view that in live time, and how to create image using WebCam"
   ]
  },
  {
   "cell_type": "code",
   "execution_count": 1,
   "id": "2b351f47",
   "metadata": {},
   "outputs": [],
   "source": [
    "import numpy as np\n",
    "import cv2"
   ]
  },
  {
   "cell_type": "code",
   "execution_count": 3,
   "id": "76e4fb7d",
   "metadata": {},
   "outputs": [],
   "source": [
    "# displaying video capture device\n",
    "cap = cv2.VideoCapture(0)\n",
    "\n",
    "while True:\n",
    "    ret, frame = cap.read()\n",
    "    \n",
    "    \n",
    "    cv2.imshow('frame', frame)\n",
    "    \n",
    "    if cv2.waitKey(1) == ord('q'):   \n",
    "        break\n",
    "\n",
    "cap.release()\n",
    "cv2.destroyAllWindows()"
   ]
  },
  {
   "cell_type": "markdown",
   "id": "f0c36db4",
   "metadata": {},
   "source": [
    "#### Note:\n",
    "1. *cv2.VideoCapture(0)* : When we have multiple camera sources in our system, we can access different cameras 0-For first one, 1-For second one, etc\n",
    "\n",
    "\n",
    "2. *ret, frame = cap.read()* : ret -> To show whether the camera is properly functioning or not. Like when camera is busy doing some differnet work it will retuen False. Frame is used to give a frame to camera.\n",
    "\n",
    "\n",
    "3. *cv2.waitKey(1) == ord('q')* : Here 1 means camera will capture the picture for every 1 milisecond and display it. When we press 'q' , camera will close.\n",
    "\n",
    "\n",
    "4. *cap.release()* : It will release the webCam.\n"
   ]
  },
  {
   "cell_type": "code",
   "execution_count": 7,
   "id": "5b74f6a4",
   "metadata": {},
   "outputs": [],
   "source": [
    "# creating a canvas to display multiple images\n",
    "cap = cv2.VideoCapture(0)\n",
    "\n",
    "while True:\n",
    "    ret, frame = cap.read()\n",
    "    width = int(cap.get(3))\n",
    "    height = int(cap.get(4))\n",
    "    \n",
    "    image = np.zeros(frame.shape, np.uint8)\n",
    "    smaller_frame = cv2.resize(frame, (0,0), fx = 0.5, fy = 0.5)    # creating four frames\n",
    "    image[:height//2, :width//2] = smaller_frame   # top-left\n",
    "    image[height//2:, :width//2] = smaller_frame   # bottom-left\n",
    "    image[:height//2, width//2:] = smaller_frame    # top-right\n",
    "    image[height//2:, width//2:] = smaller_frame    # bottom-right\n",
    "    \n",
    "    cv2.imshow('frame', image)\n",
    "    \n",
    "    if cv2.waitKey(1) == ord('q'):   \n",
    "        break\n",
    "\n",
    "cap.release()\n",
    "cv2.destroyAllWindows()"
   ]
  },
  {
   "cell_type": "code",
   "execution_count": 9,
   "id": "9f32ca4c",
   "metadata": {},
   "outputs": [],
   "source": [
    "# creating a canvas to display multiple images\n",
    "# manipulating images\n",
    "cap = cv2.VideoCapture(0)\n",
    "\n",
    "while True:\n",
    "    ret, frame = cap.read()\n",
    "    width = int(cap.get(3))\n",
    "    height = int(cap.get(4))\n",
    "    \n",
    "    image = np.zeros(frame.shape, np.uint8)\n",
    "    smaller_frame = cv2.resize(frame, (0,0), fx = 0.5, fy = 0.5)    # creating four frames\n",
    "    image[:height//2, :width//2] = cv2.rotate(smaller_frame, cv2.ROTATE_180)  # top-left\n",
    "    image[height//2:, :width//2] = smaller_frame   # bottom-left\n",
    "    image[:height//2, width//2:] = cv2.rotate(smaller_frame, cv2.ROTATE_180)    # top-right\n",
    "    image[height//2:, width//2:] = smaller_frame    # bottom-right\n",
    "    \n",
    "    cv2.imshow('frame', image)\n",
    "    \n",
    "    if cv2.waitKey(1) == ord('q'):   \n",
    "        break\n",
    "\n",
    "cap.release()\n",
    "cv2.destroyAllWindows()"
   ]
  },
  {
   "cell_type": "markdown",
   "id": "fa1d4244",
   "metadata": {},
   "source": [
    "### Note: \n",
    "We cannot rotate the image clockwise or counter-clockwise(atleast in this case) becuase it will change the dimension of the image and gives error."
   ]
  }
 ],
 "metadata": {
  "kernelspec": {
   "display_name": "Python 3 (ipykernel)",
   "language": "python",
   "name": "python3"
  },
  "language_info": {
   "codemirror_mode": {
    "name": "ipython",
    "version": 3
   },
   "file_extension": ".py",
   "mimetype": "text/x-python",
   "name": "python",
   "nbconvert_exporter": "python",
   "pygments_lexer": "ipython3",
   "version": "3.9.13"
  }
 },
 "nbformat": 4,
 "nbformat_minor": 5
}
