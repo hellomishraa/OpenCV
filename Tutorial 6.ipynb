{
 "cells": [
  {
   "cell_type": "markdown",
   "id": "2f68b4cc",
   "metadata": {},
   "source": [
    "### Corner Detection:"
   ]
  },
  {
   "cell_type": "code",
   "execution_count": 40,
   "id": "447752eb",
   "metadata": {},
   "outputs": [],
   "source": [
    "# importing the dependencies\n",
    "import numpy as np\n",
    "import cv2"
   ]
  },
  {
   "cell_type": "code",
   "execution_count": 41,
   "id": "67e239f1",
   "metadata": {},
   "outputs": [],
   "source": [
    "# importing the image\n",
    "img = cv2.imread('Assets/Chess-Template-1-1854x1920-1.png')"
   ]
  },
  {
   "cell_type": "code",
   "execution_count": 42,
   "id": "798d2ec0",
   "metadata": {},
   "outputs": [],
   "source": [
    "# resizing the image\n",
    "img = cv2.resize(img, (0,0), fx = 0.5, fy = 0.5)\n",
    "# converting the image into grey scale image\n",
    "gray = cv2.cvtColor(img, cv2.COLOR_BGR2GRAY)"
   ]
  },
  {
   "cell_type": "code",
   "execution_count": 43,
   "id": "257d4a73",
   "metadata": {},
   "outputs": [],
   "source": [
    "# detecting corners\n",
    "corners = cv2.goodFeaturesToTrack(gray, 100, 0.01, 10)\n",
    "corners = np.int0(corners)\n",
    "\n",
    "# drawing circles for these corners\n",
    "for corner in corners:\n",
    "    x, y = corner.ravel()\n",
    "    cv2.circle(img, (x,y), 5, (255,0,0), -1)\n",
    "    \n",
    "# Drawing lines between every corners\n",
    "    for i in range(len(corners)):\n",
    "        for j in range(i+1, len(corners)):\n",
    "            corner1 = tuple(corners[i][0])\n",
    "            corner2 = tuple(corners[j][0])\n",
    "            color = tuple(map(lambda x: int(x), np.random.randint(0,255, size = 3)))\n",
    "            cv2.line(img, corner1, corner2, color, 1)"
   ]
  },
  {
   "cell_type": "markdown",
   "id": "e6cbe3fa",
   "metadata": {},
   "source": [
    "*Parameter Passed*:\n",
    "cv2.goodFeaturesToTrack(\n",
    "\n",
    "1. img = Source Image\n",
    "2. 100 = Number of corners\n",
    "3. 0.01 = Minimum Quality\n",
    "4. 10 = Minimum Euclidean Distance\n",
    "\n",
    ")"
   ]
  },
  {
   "cell_type": "code",
   "execution_count": 44,
   "id": "f2983580",
   "metadata": {},
   "outputs": [],
   "source": [
    "# displaying image\n",
    "cv2.imshow('Frame', img)\n",
    "cv2.waitKey(0)\n",
    "cv2.destroyAllWindows()"
   ]
  }
 ],
 "metadata": {
  "kernelspec": {
   "display_name": "Python 3 (ipykernel)",
   "language": "python",
   "name": "python3"
  },
  "language_info": {
   "codemirror_mode": {
    "name": "ipython",
    "version": 3
   },
   "file_extension": ".py",
   "mimetype": "text/x-python",
   "name": "python",
   "nbconvert_exporter": "python",
   "pygments_lexer": "ipython3",
   "version": "3.9.13"
  }
 },
 "nbformat": 4,
 "nbformat_minor": 5
}
